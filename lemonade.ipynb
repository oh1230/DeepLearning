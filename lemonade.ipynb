{
  "nbformat": 4,
  "nbformat_minor": 0,
  "metadata": {
    "colab": {
      "name": "lemonade.ipynb",
      "provenance": [],
      "collapsed_sections": []
    },
    "kernelspec": {
      "name": "python3",
      "display_name": "Python 3"
    },
    "language_info": {
      "name": "python"
    }
  },
  "cells": [
    {
      "cell_type": "code",
      "metadata": {
        "id": "4rjf_z-1_aPp"
      },
      "source": [
        "import tensorflow as tf\n",
        "import pandas as pd"
      ],
      "execution_count": null,
      "outputs": []
    },
    {
      "cell_type": "code",
      "metadata": {
        "colab": {
          "base_uri": "https://localhost:8080/"
        },
        "id": "vnHjXcwl_kJu",
        "outputId": "587563b2-6ee2-4c9f-b945-5d80c5d39731"
      },
      "source": [
        "fileRoute = 'https://raw.githubusercontent.com/blackdew/tensorflow1/master/csv/lemonade.csv'\n",
        "lemonade = pd.read_csv(fileRoute)\n",
        "lemonade.head()\n",
        "\n",
        "iso = lemonade[['온도']]\n",
        "dep = lemonade[['판매량']]\n",
        "print(iso.shape, dep.shape)"
      ],
      "execution_count": null,
      "outputs": [
        {
          "output_type": "stream",
          "name": "stdout",
          "text": [
            "(6, 1) (6, 1)\n"
          ]
        }
      ]
    },
    {
      "cell_type": "code",
      "metadata": {
        "id": "3rcTJY40CT9a"
      },
      "source": [
        "X = tf.keras.layers.Input(shape=[1])\n",
        "Y = tf.keras.layers.Dense(1)(X)\n",
        "model = tf.keras.models.Model(X, Y)\n",
        "model.compile(loss='mse')"
      ],
      "execution_count": null,
      "outputs": []
    },
    {
      "cell_type": "code",
      "metadata": {
        "colab": {
          "base_uri": "https://localhost:8080/"
        },
        "id": "XVPbRzzcCj3S",
        "outputId": "25bbe6b2-ccc7-4eac-f948-6f3a1e27ad6b"
      },
      "source": [
        "model.fit(iso, dep, epochs=10)"
      ],
      "execution_count": null,
      "outputs": [
        {
          "output_type": "stream",
          "name": "stdout",
          "text": [
            "Epoch 1/10\n",
            "1/1 [==============================] - 0s 7ms/step - loss: 1.3942e-04\n",
            "Epoch 2/10\n",
            "1/1 [==============================] - 0s 14ms/step - loss: 1.3935e-04\n",
            "Epoch 3/10\n",
            "1/1 [==============================] - 0s 7ms/step - loss: 1.3939e-04\n",
            "Epoch 4/10\n",
            "1/1 [==============================] - 0s 5ms/step - loss: 1.3947e-04\n",
            "Epoch 5/10\n",
            "1/1 [==============================] - 0s 4ms/step - loss: 1.3943e-04\n",
            "Epoch 6/10\n",
            "1/1 [==============================] - 0s 5ms/step - loss: 1.3941e-04\n",
            "Epoch 7/10\n",
            "1/1 [==============================] - 0s 4ms/step - loss: 1.3950e-04\n",
            "Epoch 8/10\n",
            "1/1 [==============================] - 0s 4ms/step - loss: 1.3951e-04\n",
            "Epoch 9/10\n",
            "1/1 [==============================] - 0s 7ms/step - loss: 1.3949e-04\n",
            "Epoch 10/10\n",
            "1/1 [==============================] - 0s 3ms/step - loss: 1.3947e-04\n"
          ]
        },
        {
          "output_type": "execute_result",
          "data": {
            "text/plain": [
              "<keras.callbacks.History at 0x7f2250b6fed0>"
            ]
          },
          "metadata": {},
          "execution_count": 26
        }
      ]
    },
    {
      "cell_type": "code",
      "metadata": {
        "colab": {
          "base_uri": "https://localhost:8080/"
        },
        "id": "-kZxZ1F7DNRF",
        "outputId": "8a65efda-79fa-45dc-a601-28587a4968fd"
      },
      "source": [
        "print(model.predict(iso))"
      ],
      "execution_count": null,
      "outputs": [
        {
          "output_type": "stream",
          "name": "stdout",
          "text": [
            "[[39.99075 ]\n",
            " [41.989773]\n",
            " [43.988796]\n",
            " [45.98782 ]\n",
            " [47.986843]\n",
            " [49.985867]]\n"
          ]
        }
      ]
    },
    {
      "cell_type": "code",
      "metadata": {
        "colab": {
          "base_uri": "https://localhost:8080/"
        },
        "id": "BcynsVu1D57F",
        "outputId": "dcaf1961-9469-477f-ba8b-8f384106b71c"
      },
      "source": [
        "print(model.predict([[15]]))"
      ],
      "execution_count": null,
      "outputs": [
        {
          "output_type": "stream",
          "name": "stdout",
          "text": [
            "[[29.99563]]\n"
          ]
        }
      ]
    }
  ]
}